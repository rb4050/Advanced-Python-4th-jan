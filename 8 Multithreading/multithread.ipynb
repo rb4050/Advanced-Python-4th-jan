{
 "cells": [
  {
   "cell_type": "markdown",
   "metadata": {},
   "source": [
    "# Multithreading\n",
    "1. Single thread works on one task at a time\n",
    "2. Multithreading works on multiple tasks simultaneously"
   ]
  },
  {
   "cell_type": "code",
   "execution_count": 1,
   "metadata": {},
   "outputs": [],
   "source": [
    "import time"
   ]
  },
  {
   "cell_type": "code",
   "execution_count": 3,
   "metadata": {},
   "outputs": [
    {
     "name": "stdout",
     "output_type": "stream",
     "text": [
      "example\n",
      "rohan\n",
      "CPU times: total: 0 ns\n",
      "Wall time: 5 s\n"
     ]
    }
   ],
   "source": [
    "%%time\n",
    "time.sleep(2)\n",
    "print(\"example\")\n",
    "time.sleep(3)\n",
    "print(\"rohan\")"
   ]
  },
  {
   "cell_type": "code",
   "execution_count": 7,
   "metadata": {},
   "outputs": [],
   "source": [
    "def simple_int(p,n,r):\n",
    "    print(\"Simple int function started \")\n",
    "    time.sleep(3)\n",
    "    i = (p*n*r)/100\n",
    "    a = p+i\n",
    "    print(f\"interest : {i:.2f}\")\n",
    "    print(f\"amount : {a:.2f}\")\n",
    "    print(\"exe completed\")"
   ]
  },
  {
   "cell_type": "code",
   "execution_count": 8,
   "metadata": {},
   "outputs": [
    {
     "name": "stdout",
     "output_type": "stream",
     "text": [
      "Simple int function started \n",
      "interest : 20520.00\n",
      "amount : 77520.00\n",
      "exe completed\n",
      "CPU times: total: 15.6 ms\n",
      "Wall time: 3 s\n"
     ]
    }
   ],
   "source": [
    "%%time\n",
    "simple_int(57000,5,7.2)"
   ]
  },
  {
   "cell_type": "code",
   "execution_count": 11,
   "metadata": {},
   "outputs": [],
   "source": [
    "def hypo(a,b):\n",
    "    print(\"exe started\")\n",
    "    time.sleep(2)\n",
    "    c = (a**2 + b**2) ** (1/2)\n",
    "    print(f\"hyp for {a} and {b} is {c}\")\n",
    "    print(\"exe completed\")"
   ]
  },
  {
   "cell_type": "code",
   "execution_count": 12,
   "metadata": {},
   "outputs": [
    {
     "name": "stdout",
     "output_type": "stream",
     "text": [
      "exe started\n",
      "hyp for 2 and 4 is 4.47213595499958\n",
      "exe completed\n"
     ]
    }
   ],
   "source": [
    "hypo(2,4)"
   ]
  },
  {
   "cell_type": "code",
   "execution_count": 13,
   "metadata": {},
   "outputs": [
    {
     "name": "stdout",
     "output_type": "stream",
     "text": [
      "Simple int function started \n",
      "interest : 972.00\n",
      "amount : 5472.00\n",
      "exe completed\n",
      "exe started\n",
      "hyp for 3 and 4 is 5.0\n",
      "exe completed\n",
      "CPU times: total: 0 ns\n",
      "Wall time: 5 s\n"
     ]
    }
   ],
   "source": [
    "%%time\n",
    "simple_int(4500,3,7.2)\n",
    "hypo(3,4)"
   ]
  },
  {
   "cell_type": "code",
   "execution_count": 14,
   "metadata": {},
   "outputs": [],
   "source": [
    "## if u want to execute 2 function simultaneously"
   ]
  },
  {
   "cell_type": "code",
   "execution_count": 15,
   "metadata": {},
   "outputs": [],
   "source": [
    "from threading import Thread"
   ]
  },
  {
   "cell_type": "code",
   "execution_count": 17,
   "metadata": {},
   "outputs": [
    {
     "name": "stdout",
     "output_type": "stream",
     "text": [
      "Simple int function started \n",
      "exe started\n",
      "hyp for 3 and 4 is 5.0\n",
      "exe completed\n",
      "interest : 432.00\n",
      "amount : 2432.00\n",
      "exe completed\n",
      "CPU times: total: 0 ns\n",
      "Wall time: 3 s\n"
     ]
    }
   ],
   "source": [
    "%%time\n",
    "# Create and start the threads\n",
    "th1 = Thread(target=simple_int,args=(2000,3,7.2))\n",
    "th2 = Thread(target=hypo,args=(3,4))\n",
    "\n",
    "#Start all threads\n",
    "th1.start()\n",
    "th2.start()\n",
    "\n",
    "#wait for all threads to finish \n",
    "th1.join()\n",
    "th2.join()"
   ]
  },
  {
   "cell_type": "markdown",
   "metadata": {},
   "source": [
    "## Single function but multiple values"
   ]
  },
  {
   "cell_type": "code",
   "execution_count": 18,
   "metadata": {},
   "outputs": [],
   "source": [
    "def square(n):\n",
    "    time.sleep(2)\n",
    "    s = n**2 \n",
    "    print(f\"sqaure is {s}\")"
   ]
  },
  {
   "cell_type": "code",
   "execution_count": 19,
   "metadata": {},
   "outputs": [
    {
     "name": "stdout",
     "output_type": "stream",
     "text": [
      "sqaure is 9\n",
      "CPU times: total: 0 ns\n",
      "Wall time: 2 s\n"
     ]
    }
   ],
   "source": [
    "%%time\n",
    "square(3)"
   ]
  },
  {
   "cell_type": "code",
   "execution_count": 20,
   "metadata": {},
   "outputs": [
    {
     "data": {
      "text/plain": [
       "6"
      ]
     },
     "execution_count": 20,
     "metadata": {},
     "output_type": "execute_result"
    }
   ],
   "source": [
    "s = [1,2,3,4,5,6]\n",
    "len(s)"
   ]
  },
  {
   "cell_type": "code",
   "execution_count": 22,
   "metadata": {},
   "outputs": [
    {
     "name": "stdout",
     "output_type": "stream",
     "text": [
      "sqaure is 1\n",
      "sqaure is 4\n",
      "sqaure is 9\n",
      "sqaure is 16\n",
      "sqaure is 25\n",
      "sqaure is 36\n",
      "CPU times: total: 31.2 ms\n",
      "Wall time: 12 s\n"
     ]
    }
   ],
   "source": [
    "%%time\n",
    "for i in s:\n",
    "    square(i)\n"
   ]
  },
  {
   "cell_type": "markdown",
   "metadata": {},
   "source": [
    "## USING MULTITHREADING"
   ]
  },
  {
   "cell_type": "code",
   "execution_count": 24,
   "metadata": {},
   "outputs": [],
   "source": [
    "def square_mul(b:list):\n",
    "    # create the thread\n",
    "    threads = []\n",
    "    for i in b:\n",
    "        th = Thread(target=square,args=(i,))\n",
    "        th.start()\n",
    "        threads.append(th)\n",
    "\n",
    "    # wait for all threads to finish\n",
    "    for th in threads:\n",
    "        th.join()"
   ]
  },
  {
   "cell_type": "code",
   "execution_count": 26,
   "metadata": {},
   "outputs": [
    {
     "name": "stdout",
     "output_type": "stream",
     "text": [
      "sqaure is 9sqaure is 1\n",
      "sqaure is 25\n",
      "\n",
      "sqaure is 16\n",
      "sqaure is 4\n",
      "sqaure is 36\n",
      "CPU times: total: 0 ns\n",
      "Wall time: 2 s\n"
     ]
    }
   ],
   "source": [
    "%%time\n",
    "square_mul(s)"
   ]
  },
  {
   "cell_type": "code",
   "execution_count": 27,
   "metadata": {},
   "outputs": [],
   "source": [
    "import numpy as np"
   ]
  },
  {
   "cell_type": "code",
   "execution_count": 28,
   "metadata": {},
   "outputs": [
    {
     "data": {
      "text/plain": [
       "array([  1,   2,   3,   4,   5,   6,   7,   8,   9,  10,  11,  12,  13,\n",
       "        14,  15,  16,  17,  18,  19,  20,  21,  22,  23,  24,  25,  26,\n",
       "        27,  28,  29,  30,  31,  32,  33,  34,  35,  36,  37,  38,  39,\n",
       "        40,  41,  42,  43,  44,  45,  46,  47,  48,  49,  50,  51,  52,\n",
       "        53,  54,  55,  56,  57,  58,  59,  60,  61,  62,  63,  64,  65,\n",
       "        66,  67,  68,  69,  70,  71,  72,  73,  74,  75,  76,  77,  78,\n",
       "        79,  80,  81,  82,  83,  84,  85,  86,  87,  88,  89,  90,  91,\n",
       "        92,  93,  94,  95,  96,  97,  98,  99, 100])"
      ]
     },
     "execution_count": 28,
     "metadata": {},
     "output_type": "execute_result"
    }
   ],
   "source": [
    "b = np.arange(1,101,1)\n",
    "b"
   ]
  },
  {
   "cell_type": "code",
   "execution_count": 29,
   "metadata": {},
   "outputs": [
    {
     "name": "stdout",
     "output_type": "stream",
     "text": [
      "sqaure is 9sqaure is 1\n",
      "sqaure is 4\n",
      "sqaure is 16\n",
      "sqaure is 49\n",
      "sqaure is 36\n",
      "sqaure is 64\n",
      "sqaure is 25\n",
      "sqaure is 100\n",
      "sqaure is 121\n",
      "sqaure is 81\n",
      "sqaure is 144\n",
      "sqaure is 169\n",
      "sqaure is 225\n",
      "sqaure is 196\n",
      "sqaure is 289\n",
      "sqaure is 256\n",
      "sqaure is 324\n",
      "sqaure is 361\n",
      "sqaure is 484\n",
      "sqaure is 441\n",
      "sqaure is 400\n",
      "\n",
      "sqaure is 676\n",
      "sqaure is 625\n",
      "sqaure is 529\n",
      "sqaure is 576\n",
      "sqaure is 729\n",
      "sqaure is 841\n",
      "sqaure is 784\n",
      "sqaure is 900\n",
      "sqaure is 961\n",
      "sqaure is 1089\n",
      "sqaure is 1024\n",
      "sqaure is 1156\n",
      "sqaure is 1369\n",
      "sqaure is 1225\n",
      "sqaure is 1296\n",
      "sqaure is 1600\n",
      "sqaure is 1444\n",
      "sqaure is 1521\n",
      "sqaure is 1849\n",
      "sqaure is 1764\n",
      "sqaure is 1681\n",
      "sqaure is 2025\n",
      "sqaure is 2209\n",
      "sqaure is 2116\n",
      "sqaure is 1936\n",
      "sqaure is 2304\n",
      "sqaure is 2500\n",
      "sqaure is 2401\n",
      "sqaure is 2704\n",
      "sqaure is 2916\n",
      "sqaure is 2601\n",
      "sqaure is 2809\n",
      "sqaure is 3249\n",
      "sqaure is 3364\n",
      "sqaure is 3136\n",
      "sqaure is 3025\n",
      "sqaure is 3721\n",
      "sqaure is 3844\n",
      "sqaure is 3600\n",
      "sqaure is 3481\n",
      "sqaure is 4096\n",
      "sqaure is 4225\n",
      "sqaure is 4356\n",
      "sqaure is 3969\n",
      "sqaure is 4489\n",
      "sqaure is 4624\n",
      "sqaure is 5041\n",
      "sqaure is 4900\n",
      "sqaure is 4761\n",
      "sqaure is 5329\n",
      "sqaure is 5476\n",
      "sqaure is 5184\n",
      "sqaure is 5625\n",
      "sqaure is 5776\n",
      "sqaure is 5929\n",
      "sqaure is 6084\n",
      "sqaure is 6561\n",
      "sqaure is 6400\n",
      "sqaure is 6241\n",
      "sqaure is 7056\n",
      "sqaure is 6889\n",
      "sqaure is 6724\n",
      "sqaure is 7744\n",
      "sqaure is 7569\n",
      "sqaure is 7225\n",
      "sqaure is 7396\n",
      "sqaure is 7921\n",
      "sqaure is 8100\n",
      "sqaure is 8281\n",
      "sqaure is 8464\n",
      "sqaure is 9216\n",
      "sqaure is 8649\n",
      "sqaure is 9025\n",
      "sqaure is 8836\n",
      "sqaure is 9409\n",
      "sqaure is 9604\n",
      "sqaure is 9801\n",
      "sqaure is 10000\n",
      "CPU times: total: 15.6 ms\n",
      "Wall time: 2.02 s\n"
     ]
    }
   ],
   "source": [
    "%%time\n",
    "square_mul(b)"
   ]
  },
  {
   "cell_type": "code",
   "execution_count": 30,
   "metadata": {},
   "outputs": [],
   "source": [
    "\n",
    "urls = [\n",
    "    \"https://raw.githubusercontent.com/utkarshg1/mlproject_regression/main/artifacts/data.csv\",\n",
    "    \"https://raw.githubusercontent.com/utkarshg1/mlproject_regression/main/artifacts/test.csv\",\n",
    "    \"https://raw.githubusercontent.com/utkarshg1/mlproject_regression/main/artifacts/train.csv\"\n",
    "]"
   ]
  },
  {
   "cell_type": "code",
   "execution_count": 31,
   "metadata": {},
   "outputs": [
    {
     "data": {
      "text/plain": [
       "'data.csv'"
      ]
     },
     "execution_count": 31,
     "metadata": {},
     "output_type": "execute_result"
    }
   ],
   "source": [
    "urls[0].split(\"/\")[-1]\n"
   ]
  },
  {
   "cell_type": "code",
   "execution_count": 32,
   "metadata": {},
   "outputs": [],
   "source": [
    "from urllib.request import urlretrieve\n"
   ]
  },
  {
   "cell_type": "code",
   "execution_count": 33,
   "metadata": {},
   "outputs": [],
   "source": [
    "def download_file(url: str):\n",
    "    filename = url.split(\"/\")[-1]\n",
    "    print(f\"{filename} download started ...\")\n",
    "    urlretrieve(url, filename)\n",
    "    print(f\"{filename} download complete\")"
   ]
  },
  {
   "cell_type": "code",
   "execution_count": 34,
   "metadata": {},
   "outputs": [
    {
     "data": {
      "text/plain": [
       "['https://raw.githubusercontent.com/utkarshg1/mlproject_regression/main/artifacts/data.csv',\n",
       " 'https://raw.githubusercontent.com/utkarshg1/mlproject_regression/main/artifacts/test.csv',\n",
       " 'https://raw.githubusercontent.com/utkarshg1/mlproject_regression/main/artifacts/train.csv']"
      ]
     },
     "execution_count": 34,
     "metadata": {},
     "output_type": "execute_result"
    }
   ],
   "source": [
    "urls\n"
   ]
  },
  {
   "cell_type": "code",
   "execution_count": 35,
   "metadata": {},
   "outputs": [
    {
     "name": "stdout",
     "output_type": "stream",
     "text": [
      "data.csv download started ...\n",
      "data.csv download complete\n",
      "test.csv download started ...\n",
      "test.csv download complete\n",
      "train.csv download started ...\n",
      "train.csv download complete\n",
      "CPU times: total: 141 ms\n",
      "Wall time: 6.37 s\n"
     ]
    }
   ],
   "source": [
    "\n",
    "%%time\n",
    "for i in urls:\n",
    "    download_file(i)"
   ]
  },
  {
   "cell_type": "markdown",
   "metadata": {},
   "source": [
    "# Multithreading\n"
   ]
  },
  {
   "cell_type": "code",
   "execution_count": 36,
   "metadata": {},
   "outputs": [],
   "source": [
    "\n",
    "def mutithread_download(urls: list[str]):\n",
    "    # Create and start the threads\n",
    "    threads = []\n",
    "    for i in urls:\n",
    "        th = Thread(target=download_file, args=(i,))\n",
    "        th.start()\n",
    "        threads.append(th)\n",
    "\n",
    "    # Wait for all threads to finish\n",
    "    for th in threads:\n",
    "        th.join()"
   ]
  },
  {
   "cell_type": "code",
   "execution_count": 37,
   "metadata": {},
   "outputs": [
    {
     "name": "stdout",
     "output_type": "stream",
     "text": [
      "data.csv download started ...\n",
      "test.csv download started ...\n",
      "train.csv download started ...\n",
      "test.csv download complete\n",
      "train.csv download complete\n",
      "data.csv download complete\n",
      "CPU times: total: 141 ms\n",
      "Wall time: 3.82 s\n"
     ]
    }
   ],
   "source": [
    "%%time\n",
    "mutithread_download(urls)"
   ]
  },
  {
   "cell_type": "code",
   "execution_count": 38,
   "metadata": {},
   "outputs": [
    {
     "data": {
      "text/plain": [
       "62.75862068965517"
      ]
     },
     "execution_count": 38,
     "metadata": {},
     "output_type": "execute_result"
    }
   ],
   "source": [
    "t_single = 4.35\n",
    "t_mult = 1.62\n",
    "impr = ((t_single - t_mult)/t_single)*100\n",
    "impr"
   ]
  },
  {
   "cell_type": "code",
   "execution_count": 39,
   "metadata": {},
   "outputs": [],
   "source": [
    "# For downloading in this case Multithreading is 62.7 % faster\n"
   ]
  },
  {
   "cell_type": "code",
   "execution_count": null,
   "metadata": {},
   "outputs": [],
   "source": []
  }
 ],
 "metadata": {
  "kernelspec": {
   "display_name": "venv",
   "language": "python",
   "name": "python3"
  },
  "language_info": {
   "codemirror_mode": {
    "name": "ipython",
    "version": 3
   },
   "file_extension": ".py",
   "mimetype": "text/x-python",
   "name": "python",
   "nbconvert_exporter": "python",
   "pygments_lexer": "ipython3",
   "version": "3.12.3"
  }
 },
 "nbformat": 4,
 "nbformat_minor": 2
}
