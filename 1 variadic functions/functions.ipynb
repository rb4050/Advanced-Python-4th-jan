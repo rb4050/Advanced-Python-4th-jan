{
 "cells": [
  {
   "cell_type": "markdown",
   "metadata": {},
   "source": [
    "# VARIADIC FUNCTION"
   ]
  },
  {
   "cell_type": "code",
   "execution_count": 2,
   "metadata": {},
   "outputs": [],
   "source": [
    "from warnings import filterwarnings\n",
    "filterwarnings(\"ignore\")"
   ]
  },
  {
   "cell_type": "code",
   "execution_count": 5,
   "metadata": {},
   "outputs": [],
   "source": [
    "def mul(a: int | float, b: int | float):\n",
    "    \"\"\"this function takes two numbers as input and returns the multiplication of the two numbers\"\"\"\n",
    "    c = a * b\n",
    "    return c"
   ]
  },
  {
   "cell_type": "code",
   "execution_count": 6,
   "metadata": {},
   "outputs": [
    {
     "data": {
      "text/plain": [
       "12"
      ]
     },
     "execution_count": 6,
     "metadata": {},
     "output_type": "execute_result"
    }
   ],
   "source": [
    "mul(4,3)"
   ]
  },
  {
   "cell_type": "code",
   "execution_count": 7,
   "metadata": {},
   "outputs": [
    {
     "data": {
      "text/plain": [
       "6.2"
      ]
     },
     "execution_count": 7,
     "metadata": {},
     "output_type": "execute_result"
    }
   ],
   "source": [
    "m1 = mul(2,3.1)\n",
    "m1"
   ]
  },
  {
   "cell_type": "code",
   "execution_count": 8,
   "metadata": {},
   "outputs": [
    {
     "data": {
      "text/plain": [
       "15"
      ]
     },
     "execution_count": 8,
     "metadata": {},
     "output_type": "execute_result"
    }
   ],
   "source": [
    "# keyword arguments\n",
    "m1 = mul(a=3, b=5)\n",
    "m1"
   ]
  },
  {
   "cell_type": "markdown",
   "metadata": {},
   "source": [
    "# Args in function\n",
    "1. *args = will act like tuple in function"
   ]
  },
  {
   "cell_type": "code",
   "execution_count": 9,
   "metadata": {},
   "outputs": [],
   "source": [
    "def func1(*args):\n",
    "    print(args)\n",
    "    print(type(args))\n",
    "    for i in args:\n",
    "        print(i)"
   ]
  },
  {
   "cell_type": "code",
   "execution_count": 10,
   "metadata": {},
   "outputs": [
    {
     "name": "stdout",
     "output_type": "stream",
     "text": [
      "('rohan', 41, 'hlo')\n",
      "<class 'tuple'>\n",
      "rohan\n",
      "41\n",
      "hlo\n"
     ]
    }
   ],
   "source": [
    "func1(\"rohan\",41,\"hlo\")"
   ]
  },
  {
   "cell_type": "markdown",
   "metadata": {},
   "source": [
    "# pass list as an argument"
   ]
  },
  {
   "cell_type": "code",
   "execution_count": 11,
   "metadata": {},
   "outputs": [
    {
     "data": {
      "text/plain": [
       "list"
      ]
     },
     "execution_count": 11,
     "metadata": {},
     "output_type": "execute_result"
    }
   ],
   "source": [
    "a = [ 1,2,3,4,4,5,6,7]\n",
    "type(a)"
   ]
  },
  {
   "cell_type": "code",
   "execution_count": 12,
   "metadata": {},
   "outputs": [
    {
     "name": "stdout",
     "output_type": "stream",
     "text": [
      "(1, 2, 3, 4, 4, 5, 6, 7)\n",
      "<class 'tuple'>\n",
      "1\n",
      "2\n",
      "3\n",
      "4\n",
      "4\n",
      "5\n",
      "6\n",
      "7\n"
     ]
    }
   ],
   "source": [
    "func1(*a)"
   ]
  },
  {
   "cell_type": "markdown",
   "metadata": {},
   "source": [
    "### write a variadic function to apply multiplication of all agruments"
   ]
  },
  {
   "cell_type": "code",
   "execution_count": 13,
   "metadata": {},
   "outputs": [],
   "source": [
    "def prod(*args):\n",
    "    # initialize the product to 1\n",
    "    p = 1\n",
    "\n",
    "    # apply for loop on args\n",
    "    for i in args:\n",
    "        p = p * i\n",
    "\n",
    "    return p"
   ]
  },
  {
   "cell_type": "code",
   "execution_count": 14,
   "metadata": {},
   "outputs": [
    {
     "data": {
      "text/plain": [
       "20"
      ]
     },
     "execution_count": 14,
     "metadata": {},
     "output_type": "execute_result"
    }
   ],
   "source": [
    "prod(4,5)"
   ]
  },
  {
   "cell_type": "code",
   "execution_count": 15,
   "metadata": {},
   "outputs": [
    {
     "data": {
      "text/plain": [
       "840"
      ]
     },
     "execution_count": 15,
     "metadata": {},
     "output_type": "execute_result"
    }
   ],
   "source": [
    "prod(4,5,6,7)"
   ]
  },
  {
   "cell_type": "code",
   "execution_count": 16,
   "metadata": {},
   "outputs": [
    {
     "data": {
      "text/plain": [
       "list"
      ]
     },
     "execution_count": 16,
     "metadata": {},
     "output_type": "execute_result"
    }
   ],
   "source": [
    "list = [ 1,2,33,34,32,21]\n",
    "type(list)\n"
   ]
  },
  {
   "cell_type": "code",
   "execution_count": 18,
   "metadata": {},
   "outputs": [
    {
     "data": {
      "text/plain": [
       "1507968"
      ]
     },
     "execution_count": 18,
     "metadata": {},
     "output_type": "execute_result"
    }
   ],
   "source": [
    "prod(*list)            # *list is unpacking the list"
   ]
  },
  {
   "cell_type": "markdown",
   "metadata": {},
   "source": [
    "### Billing example"
   ]
  },
  {
   "cell_type": "code",
   "execution_count": 19,
   "metadata": {},
   "outputs": [],
   "source": [
    "c1 = {\n",
    "    (\"mobile\" , 35000 , 2),\n",
    "    (\"screen guard\", 500 , 4),\n",
    "    (\"cover\", 300 ,5)\n",
    "}"
   ]
  },
  {
   "cell_type": "markdown",
   "metadata": {},
   "source": [
    "### for above cart value do the billing and add some tax rate"
   ]
  },
  {
   "cell_type": "code",
   "execution_count": 24,
   "metadata": {},
   "outputs": [],
   "source": [
    "def billing(tax_rate: int | float, *args):\n",
    "    # initialize total_before_tax\n",
    "    total_bef_tax = 0\n",
    "\n",
    "    # apply for loops on args\n",
    "    for name, price, qty in args:\n",
    "        item_total = price * qty\n",
    "        total_bef_tax = total_bef_tax + item_total\n",
    "        print(f\"product name : {name} , price : {price} , quantity : {qty}\")\n",
    "        print(f\" item_total : {item_total:.2f}\")\n",
    "        print(\"\\n ======================================================\\n\")\n",
    "\n",
    "    tax = tax_rate / 100 * total_bef_tax\n",
    "    final_amount = total_bef_tax + tax\n",
    "\n",
    "    # show the tax and the final total\n",
    "    print(f\"total before tax = {total_bef_tax:.2f}\")\n",
    "    print(f\"Tax : {tax:.2f}\")\n",
    "    print(f\"Final total = {final_amount:.2f}\")\n",
    "\n",
    "    # return the values of the final total\n",
    "    return final_amount"
   ]
  },
  {
   "cell_type": "code",
   "execution_count": 25,
   "metadata": {},
   "outputs": [
    {
     "name": "stdout",
     "output_type": "stream",
     "text": [
      "product name : mobile , price : 35000 , quantity : 2\n",
      " item_total : 70000.00\n",
      "\n",
      " ======================================================\n",
      "\n",
      "product name : screen guard , price : 500 , quantity : 4\n",
      " item_total : 2000.00\n",
      "\n",
      " ======================================================\n",
      "\n",
      "product name : cover , price : 300 , quantity : 5\n",
      " item_total : 1500.00\n",
      "\n",
      " ======================================================\n",
      "\n",
      "total before tax = 73500.00\n",
      "Tax : 13230.00\n",
      "Final total = 86730.00\n"
     ]
    },
    {
     "data": {
      "text/plain": [
       "86730.0"
      ]
     },
     "execution_count": 25,
     "metadata": {},
     "output_type": "execute_result"
    }
   ],
   "source": [
    "billing(18, *c1)"
   ]
  },
  {
   "cell_type": "code",
   "execution_count": 26,
   "metadata": {},
   "outputs": [
    {
     "name": "stdout",
     "output_type": "stream",
     "text": [
      "product name : Laptop , price : 70000 , quantity : 1\n",
      " item_total : 70000.00\n",
      "\n",
      " ======================================================\n",
      "\n",
      "product name : Mouse , price : 800 , quantity : 2\n",
      " item_total : 1600.00\n",
      "\n",
      " ======================================================\n",
      "\n",
      "product name : Keyboard , price : 1500 , quantity : 1\n",
      " item_total : 1500.00\n",
      "\n",
      " ======================================================\n",
      "\n",
      "product name : Mouse Pad , price : 300 , quantity : 2\n",
      " item_total : 600.00\n",
      "\n",
      " ======================================================\n",
      "\n",
      "product name : Keyboard cover , price : 400 , quantity : 1\n",
      " item_total : 400.00\n",
      "\n",
      " ======================================================\n",
      "\n",
      "total before tax = 74100.00\n",
      "Tax : 13338.00\n",
      "Final total = 87438.00\n"
     ]
    }
   ],
   "source": [
    "a2 = billing(\n",
    "    18,\n",
    "    (\"Laptop\", 70000, 1),\n",
    "    (\"Mouse\", 800, 2),\n",
    "    (\"Keyboard\", 1500, 1),\n",
    "    (\"Mouse Pad\", 300, 2),\n",
    "    (\"Keyboard cover\", 400, 1)\n",
    ")"
   ]
  },
  {
   "cell_type": "markdown",
   "metadata": {},
   "source": [
    "# Keyword argument in python\n",
    "1. **kwargs = It acts like a dictionary in python"
   ]
  },
  {
   "cell_type": "code",
   "execution_count": 33,
   "metadata": {},
   "outputs": [],
   "source": [
    "def func2(**kwargs):            # key and value so keyword\n",
    "    print(kwargs)\n",
    "    print(type(kwargs))\n",
    "    for key, value in kwargs.items():\n",
    "        print(key, value)"
   ]
  },
  {
   "cell_type": "code",
   "execution_count": 32,
   "metadata": {},
   "outputs": [
    {
     "name": "stdout",
     "output_type": "stream",
     "text": [
      "{'a': 12, 'name': 'rohan', 'age': 20}\n",
      "<class 'dict'>\n",
      "a 12\n",
      "name rohan\n",
      "age 20\n"
     ]
    }
   ],
   "source": [
    "func2(a=12 , name = \"rohan\" , age = 20)"
   ]
  },
  {
   "cell_type": "code",
   "execution_count": 29,
   "metadata": {},
   "outputs": [],
   "source": [
    "d = {\n",
    "    \"name\":\"rohan\",\n",
    "    \"age\":\"20\"\n",
    "}"
   ]
  },
  {
   "cell_type": "code",
   "execution_count": 30,
   "metadata": {},
   "outputs": [
    {
     "name": "stdout",
     "output_type": "stream",
     "text": [
      "{'name': 'rohan', 'age': '20'}\n",
      "<class 'dict'>\n",
      "name rohan\n",
      "age 20\n"
     ]
    }
   ],
   "source": [
    "func2(**d)"
   ]
  },
  {
   "cell_type": "markdown",
   "metadata": {},
   "source": [
    "# Create a new user"
   ]
  },
  {
   "cell_type": "code",
   "execution_count": 34,
   "metadata": {},
   "outputs": [],
   "source": [
    "def create_user(**kwargs):\n",
    "\n",
    "    user = {\n",
    "        \"name\" : \"Na\",\n",
    "        \"age\" : \"NA\" ,\n",
    "        \"email\" : \"NA\"\n",
    "    }\n",
    "\n",
    "    user.update(kwargs)\n",
    "\n",
    "    return user"
   ]
  },
  {
   "cell_type": "code",
   "execution_count": 39,
   "metadata": {},
   "outputs": [],
   "source": [
    "\n",
    "u1 = create_user(name=\"Rahul\", age=29)"
   ]
  },
  {
   "cell_type": "code",
   "execution_count": 40,
   "metadata": {},
   "outputs": [
    {
     "data": {
      "text/plain": [
       "{'name': 'Rahul', 'age': 29, 'email': 'NA'}"
      ]
     },
     "execution_count": 40,
     "metadata": {},
     "output_type": "execute_result"
    }
   ],
   "source": [
    "u1"
   ]
  },
  {
   "cell_type": "code",
   "execution_count": 41,
   "metadata": {},
   "outputs": [],
   "source": [
    "\n",
    "u2 = create_user(name=\"Raman\")"
   ]
  },
  {
   "cell_type": "code",
   "execution_count": 42,
   "metadata": {},
   "outputs": [],
   "source": [
    "\n",
    "u3 = create_user(\n",
    "    name=\"Priya\",\n",
    "    age=35,\n",
    "    email= \"priya@test.com\"\n",
    ")"
   ]
  },
  {
   "cell_type": "code",
   "execution_count": 43,
   "metadata": {},
   "outputs": [
    {
     "data": {
      "text/plain": [
       "{'name': 'Priya', 'age': 35, 'email': 'priya@test.com'}"
      ]
     },
     "execution_count": 43,
     "metadata": {},
     "output_type": "execute_result"
    }
   ],
   "source": [
    "u3"
   ]
  },
  {
   "cell_type": "code",
   "execution_count": 44,
   "metadata": {},
   "outputs": [],
   "source": [
    "u4 = create_user(\n",
    "    name= \"John\",\n",
    "    email = \"john@test.com\",\n",
    "    contact = 9876543210\n",
    ")"
   ]
  },
  {
   "cell_type": "code",
   "execution_count": 45,
   "metadata": {},
   "outputs": [
    {
     "data": {
      "text/plain": [
       "{'name': 'John', 'age': 'NA', 'email': 'john@test.com', 'contact': 9876543210}"
      ]
     },
     "execution_count": 45,
     "metadata": {},
     "output_type": "execute_result"
    }
   ],
   "source": [
    "u4"
   ]
  },
  {
   "cell_type": "code",
   "execution_count": null,
   "metadata": {},
   "outputs": [],
   "source": []
  }
 ],
 "metadata": {
  "kernelspec": {
   "display_name": "venv",
   "language": "python",
   "name": "python3"
  },
  "language_info": {
   "codemirror_mode": {
    "name": "ipython",
    "version": 3
   },
   "file_extension": ".py",
   "mimetype": "text/x-python",
   "name": "python",
   "nbconvert_exporter": "python",
   "pygments_lexer": "ipython3",
   "version": "3.12.3"
  }
 },
 "nbformat": 4,
 "nbformat_minor": 2
}
